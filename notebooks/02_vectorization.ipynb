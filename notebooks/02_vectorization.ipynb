{
 "cells": [
  {
   "cell_type": "markdown",
   "metadata": {},
   "source": [
    "# Imports and Setup"
   ]
  },
  {
   "cell_type": "code",
   "execution_count": 14,
   "metadata": {},
   "outputs": [],
   "source": [
    "%load_ext autoreload\n",
    "%autoreload 2"
   ]
  },
  {
   "cell_type": "code",
   "execution_count": 15,
   "metadata": {},
   "outputs": [],
   "source": [
    "import pandas as pd\n",
    "import numpy as np\n",
    "\n",
    "# Text vectorization\n",
    "from sklearn.feature_extraction.text import TfidfVectorizer\n",
    "from sklearn.preprocessing import normalize\n",
    "\n",
    "# Optional: for visual confirmation\n",
    "pd.set_option(\"display.max_colwidth\", 200)"
   ]
  },
  {
   "cell_type": "markdown",
   "metadata": {},
   "source": [
    "# Load Preprocessed CSV"
   ]
  },
  {
   "cell_type": "code",
   "execution_count": 16,
   "metadata": {},
   "outputs": [
    {
     "name": "stdout",
     "output_type": "stream",
     "text": [
      "Shape: (100, 6)\n"
     ]
    },
    {
     "data": {
      "text/html": [
       "<div>\n",
       "<style scoped>\n",
       "    .dataframe tbody tr th:only-of-type {\n",
       "        vertical-align: middle;\n",
       "    }\n",
       "\n",
       "    .dataframe tbody tr th {\n",
       "        vertical-align: top;\n",
       "    }\n",
       "\n",
       "    .dataframe thead th {\n",
       "        text-align: right;\n",
       "    }\n",
       "</style>\n",
       "<table border=\"1\" class=\"dataframe\">\n",
       "  <thead>\n",
       "    <tr style=\"text-align: right;\">\n",
       "      <th></th>\n",
       "      <th>department</th>\n",
       "      <th>processed_text</th>\n",
       "    </tr>\n",
       "    <tr>\n",
       "      <th>ticket_id</th>\n",
       "      <th></th>\n",
       "      <th></th>\n",
       "    </tr>\n",
       "  </thead>\n",
       "  <tbody>\n",
       "    <tr>\n",
       "      <th>1</th>\n",
       "      <td>IT</td>\n",
       "      <td>vpn disconnect randomly video call start last system update</td>\n",
       "    </tr>\n",
       "    <tr>\n",
       "      <th>2</th>\n",
       "      <td>IT</td>\n",
       "      <td>laptop battery dy within minute even full charge</td>\n",
       "    </tr>\n",
       "    <tr>\n",
       "      <th>3</th>\n",
       "      <td>IT</td>\n",
       "      <td>outlook keep freeze try search email</td>\n",
       "    </tr>\n",
       "    <tr>\n",
       "      <th>4</th>\n",
       "      <td>IT</td>\n",
       "      <td>wifi drop every time join team meeting</td>\n",
       "    </tr>\n",
       "    <tr>\n",
       "      <th>5</th>\n",
       "      <td>IT</td>\n",
       "      <td>laptop connect company network try restart update driver</td>\n",
       "    </tr>\n",
       "    <tr>\n",
       "      <th>6</th>\n",
       "      <td>IT</td>\n",
       "      <td>team notification show desktop hour later</td>\n",
       "    </tr>\n",
       "    <tr>\n",
       "      <th>7</th>\n",
       "      <td>IT</td>\n",
       "      <td>unable install zoom due admin restriction</td>\n",
       "    </tr>\n",
       "    <tr>\n",
       "      <th>8</th>\n",
       "      <td>IT</td>\n",
       "      <td>external keyboard stop work plug dock station</td>\n",
       "    </tr>\n",
       "    <tr>\n",
       "      <th>9</th>\n",
       "      <td>IT</td>\n",
       "      <td>outlook calendar event miss sync mobile</td>\n",
       "    </tr>\n",
       "    <tr>\n",
       "      <th>10</th>\n",
       "      <td>IT</td>\n",
       "      <td>system extremely slow last antivirus update</td>\n",
       "    </tr>\n",
       "  </tbody>\n",
       "</table>\n",
       "</div>"
      ],
      "text/plain": [
       "          department  \\\n",
       "ticket_id              \n",
       "1                 IT   \n",
       "2                 IT   \n",
       "3                 IT   \n",
       "4                 IT   \n",
       "5                 IT   \n",
       "6                 IT   \n",
       "7                 IT   \n",
       "8                 IT   \n",
       "9                 IT   \n",
       "10                IT   \n",
       "\n",
       "                                                        processed_text  \n",
       "ticket_id                                                               \n",
       "1          vpn disconnect randomly video call start last system update  \n",
       "2                     laptop battery dy within minute even full charge  \n",
       "3                                 outlook keep freeze try search email  \n",
       "4                               wifi drop every time join team meeting  \n",
       "5             laptop connect company network try restart update driver  \n",
       "6                            team notification show desktop hour later  \n",
       "7                            unable install zoom due admin restriction  \n",
       "8                        external keyboard stop work plug dock station  \n",
       "9                              outlook calendar event miss sync mobile  \n",
       "10                         system extremely slow last antivirus update  "
      ]
     },
     "execution_count": 16,
     "metadata": {},
     "output_type": "execute_result"
    }
   ],
   "source": [
    "df = pd.read_csv(\"../data/tickets_preprocessed.csv\")\n",
    "df.set_index(\"ticket_id\", inplace=True)\n",
    "\n",
    "# Confirm structure and content\n",
    "print(\"Shape:\", df.shape)\n",
    "df[[\"department\",\"processed_text\"]].head(10)"
   ]
  },
  {
   "cell_type": "markdown",
   "metadata": {},
   "source": [
    "# TF-IDF Vectorization"
   ]
  },
  {
   "cell_type": "code",
   "execution_count": 17,
   "metadata": {},
   "outputs": [
    {
     "name": "stdout",
     "output_type": "stream",
     "text": [
      "TF-IDF matrix shape: (100, 115)\n"
     ]
    }
   ],
   "source": [
    "vectorizer = TfidfVectorizer(\n",
    "    max_df=0.95,       # Ignore very common words\n",
    "    min_df=2,          # Ignore very rare words\n",
    "    stop_words='english',  # Just in case\n",
    ")\n",
    "\n",
    "# Fit and transform\n",
    "tfidf_matrix = vectorizer.fit_transform(df[\"processed_text\"])\n",
    "\n",
    "# Normalize the matrix for clustering (optional but often helpful)\n",
    "tfidf_matrix_norm = normalize(tfidf_matrix)\n",
    "\n",
    "# Confirm shape and feature count\n",
    "print(\"TF-IDF matrix shape:\", tfidf_matrix_norm.shape)\n"
   ]
  },
  {
   "cell_type": "markdown",
   "metadata": {},
   "source": [
    "## Inspect top terms by average TF-IDF score"
   ]
  },
  {
   "cell_type": "code",
   "execution_count": 18,
   "metadata": {},
   "outputs": [
    {
     "data": {
      "text/html": [
       "<div>\n",
       "<style scoped>\n",
       "    .dataframe tbody tr th:only-of-type {\n",
       "        vertical-align: middle;\n",
       "    }\n",
       "\n",
       "    .dataframe tbody tr th {\n",
       "        vertical-align: top;\n",
       "    }\n",
       "\n",
       "    .dataframe thead th {\n",
       "        text-align: right;\n",
       "    }\n",
       "</style>\n",
       "<table border=\"1\" class=\"dataframe\">\n",
       "  <thead>\n",
       "    <tr style=\"text-align: right;\">\n",
       "      <th></th>\n",
       "      <th>term</th>\n",
       "      <th>avg_tfidf</th>\n",
       "    </tr>\n",
       "  </thead>\n",
       "  <tbody>\n",
       "    <tr>\n",
       "      <th>90</th>\n",
       "      <td>server</td>\n",
       "      <td>0.038122</td>\n",
       "    </tr>\n",
       "    <tr>\n",
       "      <th>74</th>\n",
       "      <td>rack</td>\n",
       "      <td>0.036861</td>\n",
       "    </tr>\n",
       "    <tr>\n",
       "      <th>106</th>\n",
       "      <td>update</td>\n",
       "      <td>0.036160</td>\n",
       "    </tr>\n",
       "    <tr>\n",
       "      <th>0</th>\n",
       "      <td>access</td>\n",
       "      <td>0.035362</td>\n",
       "    </tr>\n",
       "    <tr>\n",
       "      <th>31</th>\n",
       "      <td>fail</td>\n",
       "      <td>0.032622</td>\n",
       "    </tr>\n",
       "    <tr>\n",
       "      <th>27</th>\n",
       "      <td>drop</td>\n",
       "      <td>0.030104</td>\n",
       "    </tr>\n",
       "    <tr>\n",
       "      <th>95</th>\n",
       "      <td>switch</td>\n",
       "      <td>0.029500</td>\n",
       "    </tr>\n",
       "    <tr>\n",
       "      <th>98</th>\n",
       "      <td>team</td>\n",
       "      <td>0.029493</td>\n",
       "    </tr>\n",
       "    <tr>\n",
       "      <th>112</th>\n",
       "      <td>work</td>\n",
       "      <td>0.028439</td>\n",
       "    </tr>\n",
       "    <tr>\n",
       "      <th>64</th>\n",
       "      <td>outlook</td>\n",
       "      <td>0.027890</td>\n",
       "    </tr>\n",
       "  </tbody>\n",
       "</table>\n",
       "</div>"
      ],
      "text/plain": [
       "        term  avg_tfidf\n",
       "90    server   0.038122\n",
       "74      rack   0.036861\n",
       "106   update   0.036160\n",
       "0     access   0.035362\n",
       "31      fail   0.032622\n",
       "27      drop   0.030104\n",
       "95    switch   0.029500\n",
       "98      team   0.029493\n",
       "112     work   0.028439\n",
       "64   outlook   0.027890"
      ]
     },
     "execution_count": 18,
     "metadata": {},
     "output_type": "execute_result"
    }
   ],
   "source": [
    "# Get feature names and compute average TF-IDF per term\n",
    "feature_names = vectorizer.get_feature_names_out()\n",
    "avg_tfidf_scores = tfidf_matrix.mean(axis=0).A1  # Convert to 1D array\n",
    "\n",
    "# Create DataFrame of terms and scores\n",
    "tfidf_df = pd.DataFrame({\n",
    "    \"term\": feature_names,\n",
    "    \"avg_tfidf\": avg_tfidf_scores\n",
    "}).sort_values(by=\"avg_tfidf\", ascending=False)\n",
    "\n",
    "# Show top 20 terms\n",
    "tfidf_df.head(10)\n"
   ]
  },
  {
   "cell_type": "markdown",
   "metadata": {},
   "source": [
    "# Dimensionality Reduction Using Truncated SVD"
   ]
  },
  {
   "cell_type": "code",
   "execution_count": 19,
   "metadata": {},
   "outputs": [
    {
     "name": "stdout",
     "output_type": "stream",
     "text": [
      "Reduced shape: (100, 50)\n"
     ]
    }
   ],
   "source": [
    "from sklearn.decomposition import TruncatedSVD\n",
    "\n",
    "# Reduce to 50 dimensions (you can tune this)\n",
    "n_components = 50\n",
    "svd = TruncatedSVD(n_components=n_components, random_state=42)\n",
    "\n",
    "# Fit and transform\n",
    "X_reduced = svd.fit_transform(tfidf_matrix_norm)\n",
    "\n",
    "# Confirm shape\n",
    "print(\"Reduced shape:\", X_reduced.shape)"
   ]
  },
  {
   "cell_type": "markdown",
   "metadata": {},
   "source": [
    "# Save Outputs for Clustering"
   ]
  },
  {
   "cell_type": "code",
   "execution_count": 20,
   "metadata": {},
   "outputs": [
    {
     "name": "stdout",
     "output_type": "stream",
     "text": [
      "Saved: tfidf_reduced_50d.csv, tfidf_vectorizer.joblib, truncated_svd.joblib\n"
     ]
    }
   ],
   "source": [
    "import joblib\n",
    "\n",
    "# Save reduced matrix as a CSV with ticket IDs\n",
    "reduced_df = pd.DataFrame(X_reduced, index=df.index)\n",
    "reduced_df.to_csv(\"../data/tfidf_reduced_50d.csv\")\n",
    "\n",
    "# Save vectorizer and SVD model\n",
    "joblib.dump(vectorizer, \"../data/tfidf_vectorizer.joblib\")\n",
    "joblib.dump(svd, \"../data/truncated_svd.joblib\")\n",
    "\n",
    "print(\"Saved: tfidf_reduced_50d.csv, tfidf_vectorizer.joblib, truncated_svd.joblib\")"
   ]
  }
 ],
 "metadata": {
  "kernelspec": {
   "display_name": "Python 3",
   "language": "python",
   "name": "python3"
  },
  "language_info": {
   "codemirror_mode": {
    "name": "ipython",
    "version": 3
   },
   "file_extension": ".py",
   "mimetype": "text/x-python",
   "name": "python",
   "nbconvert_exporter": "python",
   "pygments_lexer": "ipython3",
   "version": "3.12.2"
  }
 },
 "nbformat": 4,
 "nbformat_minor": 2
}
