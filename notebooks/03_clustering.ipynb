{
 "cells": [
  {
   "cell_type": "markdown",
   "metadata": {},
   "source": [
    "# Imports and Setup"
   ]
  },
  {
   "cell_type": "code",
   "execution_count": 25,
   "metadata": {},
   "outputs": [
    {
     "name": "stdout",
     "output_type": "stream",
     "text": [
      "The autoreload extension is already loaded. To reload it, use:\n",
      "  %reload_ext autoreload\n"
     ]
    }
   ],
   "source": [
    "%load_ext autoreload\n",
    "%autoreload 2"
   ]
  },
  {
   "cell_type": "code",
   "execution_count": 26,
   "metadata": {},
   "outputs": [],
   "source": [
    "import pandas as pd\n",
    "import numpy as np\n",
    "\n",
    "from sklearn.cluster import KMeans\n",
    "from sklearn.metrics import silhouette_score\n",
    "from sklearn.preprocessing import StandardScaler\n",
    "\n",
    "import matplotlib.pyplot as plt\n",
    "import seaborn as sns\n",
    "\n",
    "# Display config\n",
    "pd.set_option(\"display.max_colwidth\", 200)\n",
    "sns.set(style=\"whitegrid\")"
   ]
  },
  {
   "cell_type": "markdown",
   "metadata": {},
   "source": [
    "# Load Reduced Embeddings"
   ]
  },
  {
   "cell_type": "code",
   "execution_count": 27,
   "metadata": {},
   "outputs": [
    {
     "name": "stdout",
     "output_type": "stream",
     "text": [
      "Shape: (60, 50)\n"
     ]
    },
    {
     "data": {
      "text/html": [
       "<div>\n",
       "<style scoped>\n",
       "    .dataframe tbody tr th:only-of-type {\n",
       "        vertical-align: middle;\n",
       "    }\n",
       "\n",
       "    .dataframe tbody tr th {\n",
       "        vertical-align: top;\n",
       "    }\n",
       "\n",
       "    .dataframe thead th {\n",
       "        text-align: right;\n",
       "    }\n",
       "</style>\n",
       "<table border=\"1\" class=\"dataframe\">\n",
       "  <thead>\n",
       "    <tr style=\"text-align: right;\">\n",
       "      <th></th>\n",
       "      <th>0</th>\n",
       "      <th>1</th>\n",
       "      <th>2</th>\n",
       "      <th>3</th>\n",
       "      <th>4</th>\n",
       "      <th>5</th>\n",
       "      <th>6</th>\n",
       "      <th>7</th>\n",
       "      <th>8</th>\n",
       "      <th>9</th>\n",
       "      <th>...</th>\n",
       "      <th>40</th>\n",
       "      <th>41</th>\n",
       "      <th>42</th>\n",
       "      <th>43</th>\n",
       "      <th>44</th>\n",
       "      <th>45</th>\n",
       "      <th>46</th>\n",
       "      <th>47</th>\n",
       "      <th>48</th>\n",
       "      <th>49</th>\n",
       "    </tr>\n",
       "    <tr>\n",
       "      <th>ticket_id</th>\n",
       "      <th></th>\n",
       "      <th></th>\n",
       "      <th></th>\n",
       "      <th></th>\n",
       "      <th></th>\n",
       "      <th></th>\n",
       "      <th></th>\n",
       "      <th></th>\n",
       "      <th></th>\n",
       "      <th></th>\n",
       "      <th></th>\n",
       "      <th></th>\n",
       "      <th></th>\n",
       "      <th></th>\n",
       "      <th></th>\n",
       "      <th></th>\n",
       "      <th></th>\n",
       "      <th></th>\n",
       "      <th></th>\n",
       "      <th></th>\n",
       "      <th></th>\n",
       "    </tr>\n",
       "  </thead>\n",
       "  <tbody>\n",
       "    <tr>\n",
       "      <th>1</th>\n",
       "      <td>0.210761</td>\n",
       "      <td>-0.157268</td>\n",
       "      <td>0.064795</td>\n",
       "      <td>-0.234947</td>\n",
       "      <td>0.055125</td>\n",
       "      <td>0.021271</td>\n",
       "      <td>0.362495</td>\n",
       "      <td>-0.182535</td>\n",
       "      <td>0.166877</td>\n",
       "      <td>-0.201897</td>\n",
       "      <td>...</td>\n",
       "      <td>0.003563</td>\n",
       "      <td>-0.081035</td>\n",
       "      <td>-0.065605</td>\n",
       "      <td>0.088537</td>\n",
       "      <td>-0.009857</td>\n",
       "      <td>-0.020826</td>\n",
       "      <td>0.054340</td>\n",
       "      <td>-0.002085</td>\n",
       "      <td>0.025076</td>\n",
       "      <td>-0.009775</td>\n",
       "    </tr>\n",
       "    <tr>\n",
       "      <th>2</th>\n",
       "      <td>0.048826</td>\n",
       "      <td>0.076185</td>\n",
       "      <td>0.105711</td>\n",
       "      <td>-0.057489</td>\n",
       "      <td>0.684273</td>\n",
       "      <td>-0.371124</td>\n",
       "      <td>0.012445</td>\n",
       "      <td>-0.074571</td>\n",
       "      <td>0.023148</td>\n",
       "      <td>0.100741</td>\n",
       "      <td>...</td>\n",
       "      <td>-0.054195</td>\n",
       "      <td>-0.008016</td>\n",
       "      <td>0.001179</td>\n",
       "      <td>0.029992</td>\n",
       "      <td>0.089005</td>\n",
       "      <td>0.031441</td>\n",
       "      <td>0.020409</td>\n",
       "      <td>-0.061217</td>\n",
       "      <td>0.028418</td>\n",
       "      <td>0.027213</td>\n",
       "    </tr>\n",
       "    <tr>\n",
       "      <th>3</th>\n",
       "      <td>0.124240</td>\n",
       "      <td>0.717688</td>\n",
       "      <td>0.008947</td>\n",
       "      <td>-0.434106</td>\n",
       "      <td>-0.170964</td>\n",
       "      <td>0.010172</td>\n",
       "      <td>-0.045533</td>\n",
       "      <td>0.124265</td>\n",
       "      <td>0.160163</td>\n",
       "      <td>-0.048867</td>\n",
       "      <td>...</td>\n",
       "      <td>-0.018755</td>\n",
       "      <td>0.020690</td>\n",
       "      <td>-0.019852</td>\n",
       "      <td>0.016610</td>\n",
       "      <td>0.000931</td>\n",
       "      <td>0.014594</td>\n",
       "      <td>-0.003268</td>\n",
       "      <td>0.000196</td>\n",
       "      <td>-0.004846</td>\n",
       "      <td>0.004219</td>\n",
       "    </tr>\n",
       "    <tr>\n",
       "      <th>4</th>\n",
       "      <td>0.005271</td>\n",
       "      <td>0.077218</td>\n",
       "      <td>0.830302</td>\n",
       "      <td>0.194218</td>\n",
       "      <td>-0.111303</td>\n",
       "      <td>0.031174</td>\n",
       "      <td>0.014802</td>\n",
       "      <td>-0.009186</td>\n",
       "      <td>0.000372</td>\n",
       "      <td>0.000429</td>\n",
       "      <td>...</td>\n",
       "      <td>0.092240</td>\n",
       "      <td>-0.137175</td>\n",
       "      <td>0.067342</td>\n",
       "      <td>-0.065735</td>\n",
       "      <td>0.045687</td>\n",
       "      <td>0.041612</td>\n",
       "      <td>-0.030272</td>\n",
       "      <td>-0.029424</td>\n",
       "      <td>0.003843</td>\n",
       "      <td>0.006396</td>\n",
       "    </tr>\n",
       "    <tr>\n",
       "      <th>5</th>\n",
       "      <td>0.034906</td>\n",
       "      <td>0.189768</td>\n",
       "      <td>0.087777</td>\n",
       "      <td>-0.144170</td>\n",
       "      <td>0.071617</td>\n",
       "      <td>0.035836</td>\n",
       "      <td>-0.025256</td>\n",
       "      <td>0.074693</td>\n",
       "      <td>-0.215976</td>\n",
       "      <td>0.060275</td>\n",
       "      <td>...</td>\n",
       "      <td>-0.035920</td>\n",
       "      <td>0.016460</td>\n",
       "      <td>0.008162</td>\n",
       "      <td>-0.012003</td>\n",
       "      <td>0.010103</td>\n",
       "      <td>0.026724</td>\n",
       "      <td>-0.020038</td>\n",
       "      <td>-0.022375</td>\n",
       "      <td>0.004483</td>\n",
       "      <td>0.007504</td>\n",
       "    </tr>\n",
       "  </tbody>\n",
       "</table>\n",
       "<p>5 rows × 50 columns</p>\n",
       "</div>"
      ],
      "text/plain": [
       "                  0         1         2         3         4         5  \\\n",
       "ticket_id                                                               \n",
       "1          0.210761 -0.157268  0.064795 -0.234947  0.055125  0.021271   \n",
       "2          0.048826  0.076185  0.105711 -0.057489  0.684273 -0.371124   \n",
       "3          0.124240  0.717688  0.008947 -0.434106 -0.170964  0.010172   \n",
       "4          0.005271  0.077218  0.830302  0.194218 -0.111303  0.031174   \n",
       "5          0.034906  0.189768  0.087777 -0.144170  0.071617  0.035836   \n",
       "\n",
       "                  6         7         8         9  ...        40        41  \\\n",
       "ticket_id                                          ...                       \n",
       "1          0.362495 -0.182535  0.166877 -0.201897  ...  0.003563 -0.081035   \n",
       "2          0.012445 -0.074571  0.023148  0.100741  ... -0.054195 -0.008016   \n",
       "3         -0.045533  0.124265  0.160163 -0.048867  ... -0.018755  0.020690   \n",
       "4          0.014802 -0.009186  0.000372  0.000429  ...  0.092240 -0.137175   \n",
       "5         -0.025256  0.074693 -0.215976  0.060275  ... -0.035920  0.016460   \n",
       "\n",
       "                 42        43        44        45        46        47  \\\n",
       "ticket_id                                                               \n",
       "1         -0.065605  0.088537 -0.009857 -0.020826  0.054340 -0.002085   \n",
       "2          0.001179  0.029992  0.089005  0.031441  0.020409 -0.061217   \n",
       "3         -0.019852  0.016610  0.000931  0.014594 -0.003268  0.000196   \n",
       "4          0.067342 -0.065735  0.045687  0.041612 -0.030272 -0.029424   \n",
       "5          0.008162 -0.012003  0.010103  0.026724 -0.020038 -0.022375   \n",
       "\n",
       "                 48        49  \n",
       "ticket_id                      \n",
       "1          0.025076 -0.009775  \n",
       "2          0.028418  0.027213  \n",
       "3         -0.004846  0.004219  \n",
       "4          0.003843  0.006396  \n",
       "5          0.004483  0.007504  \n",
       "\n",
       "[5 rows x 50 columns]"
      ]
     },
     "execution_count": 27,
     "metadata": {},
     "output_type": "execute_result"
    }
   ],
   "source": [
    "X_reduced = pd.read_csv(\"../data/tfidf_reduced_50d.csv\", index_col=0)\n",
    "\n",
    "# Confirm shape and structure\n",
    "print(\"Shape:\", X_reduced.shape)\n",
    "X_reduced.head()\n"
   ]
  },
  {
   "cell_type": "markdown",
   "metadata": {},
   "source": [
    "# KMeans Elbow Method"
   ]
  },
  {
   "cell_type": "code",
   "execution_count": 28,
   "metadata": {},
   "outputs": [
    {
     "data": {
      "image/png": "[encoded data removed]",
      "text/plain": [
       "<Figure size 800x400 with 1 Axes>"
      ]
     },
     "metadata": {},
     "output_type": "display_data"
    }
   ],
   "source": [
    "from sklearn.cluster import KMeans\n",
    "\n",
    "inertias = []\n",
    "K_range = range(2, 15)\n",
    "\n",
    "for k in K_range:\n",
    "    km = KMeans(n_clusters=k, random_state=42)\n",
    "    km.fit(X_reduced)\n",
    "    inertias.append(km.inertia_)\n",
    "\n",
    "# Plot\n",
    "plt.figure(figsize=(8, 4))\n",
    "plt.plot(K_range, inertias, marker='o')\n",
    "plt.title(\"Elbow Method: K vs Inertia\")\n",
    "plt.xlabel(\"Number of Clusters (K)\")\n",
    "plt.ylabel(\"Inertia\")\n",
    "plt.tight_layout()\n",
    "plt.show()"
   ]
  },
  {
   "cell_type": "code",
   "execution_count": 29,
   "metadata": {},
   "outputs": [
    {
     "data": {
      "text/plain": [
       "kmeans_cluster\n",
       "0     6\n",
       "1     4\n",
       "2     4\n",
       "3     5\n",
       "4     4\n",
       "5     5\n",
       "6     4\n",
       "7    17\n",
       "8     6\n",
       "9     5\n",
       "Name: count, dtype: int64"
      ]
     },
     "execution_count": 29,
     "metadata": {},
     "output_type": "execute_result"
    }
   ],
   "source": [
    "k = 10\n",
    "kmeans = KMeans(n_clusters=k, random_state=42)\n",
    "labels_kmeans = kmeans.fit_predict(X_reduced)\n",
    "\n",
    "# Add labels to DataFrame\n",
    "X_reduced[\"kmeans_cluster\"] = labels_kmeans\n",
    "\n",
    "# Preview cluster assignments\n",
    "X_reduced[\"kmeans_cluster\"].value_counts().sort_index()"
   ]
  },
  {
   "cell_type": "markdown",
   "metadata": {},
   "source": [
    "## Evaluate KMneans Clustering"
   ]
  },
  {
   "cell_type": "code",
   "execution_count": 30,
   "metadata": {},
   "outputs": [
    {
     "name": "stdout",
     "output_type": "stream",
     "text": [
      "Silhouette Score (KMeans, k=10): 0.0784\n"
     ]
    }
   ],
   "source": [
    "from sklearn.metrics import silhouette_score\n",
    "\n",
    "score = silhouette_score(X_reduced.drop(columns=\"kmeans_cluster\"), labels_kmeans)\n",
    "print(f\"Silhouette Score (KMeans, k=10): {score:.4f}\")"
   ]
  },
  {
   "cell_type": "markdown",
   "metadata": {},
   "source": [
    "# HDBSCAN"
   ]
  },
  {
   "cell_type": "code",
   "execution_count": 31,
   "metadata": {},
   "outputs": [
    {
     "data": {
      "text/plain": [
       "hdbscan_cluster\n",
       "-1    39\n",
       " 0     3\n",
       " 1     3\n",
       " 2     4\n",
       " 3     4\n",
       " 4     7\n",
       "Name: count, dtype: int64"
      ]
     },
     "execution_count": 31,
     "metadata": {},
     "output_type": "execute_result"
    }
   ],
   "source": [
    "import hdbscan\n",
    "\n",
    "# Initialize model — you can tune min_cluster_size\n",
    "hdb = hdbscan.HDBSCAN(min_cluster_size=2, prediction_data=True)\n",
    "labels_hdb = hdb.fit_predict(X_reduced.drop(columns=\"kmeans_cluster\"))\n",
    "\n",
    "# Add HDBSCAN cluster labels (label -1 = noise)\n",
    "X_reduced[\"hdbscan_cluster\"] = labels_hdb\n",
    "\n",
    "# Show counts\n",
    "X_reduced[\"hdbscan_cluster\"].value_counts().sort_index()"
   ]
  },
  {
   "cell_type": "markdown",
   "metadata": {},
   "source": [
    "## Inspect sample tickets from clusters"
   ]
  },
  {
   "cell_type": "code",
   "execution_count": 32,
   "metadata": {},
   "outputs": [
    {
     "name": "stdout",
     "output_type": "stream",
     "text": [
      "\n",
      "--- Cluster -1 ---\n"
     ]
    },
    {
     "data": {
      "text/html": [
       "<div>\n",
       "<style scoped>\n",
       "    .dataframe tbody tr th:only-of-type {\n",
       "        vertical-align: middle;\n",
       "    }\n",
       "\n",
       "    .dataframe tbody tr th {\n",
       "        vertical-align: top;\n",
       "    }\n",
       "\n",
       "    .dataframe thead th {\n",
       "        text-align: right;\n",
       "    }\n",
       "</style>\n",
       "<table border=\"1\" class=\"dataframe\">\n",
       "  <thead>\n",
       "    <tr style=\"text-align: right;\">\n",
       "      <th></th>\n",
       "      <th>description</th>\n",
       "      <th>processed_text</th>\n",
       "    </tr>\n",
       "    <tr>\n",
       "      <th>ticket_id</th>\n",
       "      <th></th>\n",
       "      <th></th>\n",
       "    </tr>\n",
       "  </thead>\n",
       "  <tbody>\n",
       "    <tr>\n",
       "      <th>2</th>\n",
       "      <td>Outlook crashes every time I open an email with an attachment.</td>\n",
       "      <td>outlook crash every time open email attachment</td>\n",
       "    </tr>\n",
       "    <tr>\n",
       "      <th>5</th>\n",
       "      <td>Wi-Fi disconnects randomly throughout the day. Restarting doesn't help.</td>\n",
       "      <td>wifi disconnect randomly throughout day restart</td>\n",
       "    </tr>\n",
       "    <tr>\n",
       "      <th>6</th>\n",
       "      <td>Blue screen appeared during a presentation and the system rebooted.</td>\n",
       "      <td>blue screen appear presentation system reboot</td>\n",
       "    </tr>\n",
       "    <tr>\n",
       "      <th>8</th>\n",
       "      <td>After installing the latest Windows update, my mouse is lagging badly.</td>\n",
       "      <td>instal late window update mouse lag badly</td>\n",
       "    </tr>\n",
       "    <tr>\n",
       "      <th>11</th>\n",
       "      <td>External monitor won't detect unless I reboot the machine.</td>\n",
       "      <td>external monitor detect unless reboot machine</td>\n",
       "    </tr>\n",
       "  </tbody>\n",
       "</table>\n",
       "</div>"
      ],
      "text/plain": [
       "                                                                       description  \\\n",
       "ticket_id                                                                            \n",
       "2                   Outlook crashes every time I open an email with an attachment.   \n",
       "5          Wi-Fi disconnects randomly throughout the day. Restarting doesn't help.   \n",
       "6              Blue screen appeared during a presentation and the system rebooted.   \n",
       "8           After installing the latest Windows update, my mouse is lagging badly.   \n",
       "11                      External monitor won't detect unless I reboot the machine.   \n",
       "\n",
       "                                            processed_text  \n",
       "ticket_id                                                   \n",
       "2           outlook crash every time open email attachment  \n",
       "5          wifi disconnect randomly throughout day restart  \n",
       "6            blue screen appear presentation system reboot  \n",
       "8                instal late window update mouse lag badly  \n",
       "11           external monitor detect unless reboot machine  "
      ]
     },
     "metadata": {},
     "output_type": "display_data"
    },
    {
     "name": "stdout",
     "output_type": "stream",
     "text": [
      "\n",
      "--- Cluster 0 ---\n"
     ]
    },
    {
     "data": {
      "text/html": [
       "<div>\n",
       "<style scoped>\n",
       "    .dataframe tbody tr th:only-of-type {\n",
       "        vertical-align: middle;\n",
       "    }\n",
       "\n",
       "    .dataframe tbody tr th {\n",
       "        vertical-align: top;\n",
       "    }\n",
       "\n",
       "    .dataframe thead th {\n",
       "        text-align: right;\n",
       "    }\n",
       "</style>\n",
       "<table border=\"1\" class=\"dataframe\">\n",
       "  <thead>\n",
       "    <tr style=\"text-align: right;\">\n",
       "      <th></th>\n",
       "      <th>description</th>\n",
       "      <th>processed_text</th>\n",
       "    </tr>\n",
       "    <tr>\n",
       "      <th>ticket_id</th>\n",
       "      <th></th>\n",
       "      <th></th>\n",
       "    </tr>\n",
       "  </thead>\n",
       "  <tbody>\n",
       "    <tr>\n",
       "      <th>4</th>\n",
       "      <td>Teams isn't picking up my microphone, even though it's working in other apps.</td>\n",
       "      <td>team pick microphone even though work apps</td>\n",
       "    </tr>\n",
       "    <tr>\n",
       "      <th>15</th>\n",
       "      <td>Audio cuts in and out during Teams calls.</td>\n",
       "      <td>audio cut team call</td>\n",
       "    </tr>\n",
       "    <tr>\n",
       "      <th>29</th>\n",
       "      <td>Teams notifications are delayed or not showing up at all.</td>\n",
       "      <td>team notification delay show</td>\n",
       "    </tr>\n",
       "  </tbody>\n",
       "</table>\n",
       "</div>"
      ],
      "text/plain": [
       "                                                                             description  \\\n",
       "ticket_id                                                                                  \n",
       "4          Teams isn't picking up my microphone, even though it's working in other apps.   \n",
       "15                                             Audio cuts in and out during Teams calls.   \n",
       "29                             Teams notifications are delayed or not showing up at all.   \n",
       "\n",
       "                                       processed_text  \n",
       "ticket_id                                              \n",
       "4          team pick microphone even though work apps  \n",
       "15                                audio cut team call  \n",
       "29                       team notification delay show  "
      ]
     },
     "metadata": {},
     "output_type": "display_data"
    },
    {
     "name": "stdout",
     "output_type": "stream",
     "text": [
      "\n",
      "--- Cluster 1 ---\n"
     ]
    },
    {
     "data": {
      "text/html": [
       "<div>\n",
       "<style scoped>\n",
       "    .dataframe tbody tr th:only-of-type {\n",
       "        vertical-align: middle;\n",
       "    }\n",
       "\n",
       "    .dataframe tbody tr th {\n",
       "        vertical-align: top;\n",
       "    }\n",
       "\n",
       "    .dataframe thead th {\n",
       "        text-align: right;\n",
       "    }\n",
       "</style>\n",
       "<table border=\"1\" class=\"dataframe\">\n",
       "  <thead>\n",
       "    <tr style=\"text-align: right;\">\n",
       "      <th></th>\n",
       "      <th>description</th>\n",
       "      <th>processed_text</th>\n",
       "    </tr>\n",
       "    <tr>\n",
       "      <th>ticket_id</th>\n",
       "      <th></th>\n",
       "      <th></th>\n",
       "    </tr>\n",
       "  </thead>\n",
       "  <tbody>\n",
       "    <tr>\n",
       "      <th>31</th>\n",
       "      <td>One of the rack-mounted servers is overheating and triggering alarms.</td>\n",
       "      <td>one rackmounted server overheat trigger alarm</td>\n",
       "    </tr>\n",
       "    <tr>\n",
       "      <th>39</th>\n",
       "      <td>Unexpected power cycle reported on blade server 12C.</td>\n",
       "      <td>unexpected power cycle report blade server c</td>\n",
       "    </tr>\n",
       "    <tr>\n",
       "      <th>49</th>\n",
       "      <td>The PDUs in Rack 6C are not reporting power draw to the dashboard.</td>\n",
       "      <td>pdus rack c report power draw dashboard</td>\n",
       "    </tr>\n",
       "  </tbody>\n",
       "</table>\n",
       "</div>"
      ],
      "text/plain": [
       "                                                                     description  \\\n",
       "ticket_id                                                                          \n",
       "31         One of the rack-mounted servers is overheating and triggering alarms.   \n",
       "39                          Unexpected power cycle reported on blade server 12C.   \n",
       "49            The PDUs in Rack 6C are not reporting power draw to the dashboard.   \n",
       "\n",
       "                                          processed_text  \n",
       "ticket_id                                                 \n",
       "31         one rackmounted server overheat trigger alarm  \n",
       "39          unexpected power cycle report blade server c  \n",
       "49               pdus rack c report power draw dashboard  "
      ]
     },
     "metadata": {},
     "output_type": "display_data"
    },
    {
     "name": "stdout",
     "output_type": "stream",
     "text": [
      "\n",
      "--- Cluster 2 ---\n"
     ]
    },
    {
     "data": {
      "text/html": [
       "<div>\n",
       "<style scoped>\n",
       "    .dataframe tbody tr th:only-of-type {\n",
       "        vertical-align: middle;\n",
       "    }\n",
       "\n",
       "    .dataframe tbody tr th {\n",
       "        vertical-align: top;\n",
       "    }\n",
       "\n",
       "    .dataframe thead th {\n",
       "        text-align: right;\n",
       "    }\n",
       "</style>\n",
       "<table border=\"1\" class=\"dataframe\">\n",
       "  <thead>\n",
       "    <tr style=\"text-align: right;\">\n",
       "      <th></th>\n",
       "      <th>description</th>\n",
       "      <th>processed_text</th>\n",
       "    </tr>\n",
       "    <tr>\n",
       "      <th>ticket_id</th>\n",
       "      <th></th>\n",
       "      <th></th>\n",
       "    </tr>\n",
       "  </thead>\n",
       "  <tbody>\n",
       "    <tr>\n",
       "      <th>1</th>\n",
       "      <td>Unable to connect to VPN from home.</td>\n",
       "      <td>unable connect vpn home</td>\n",
       "    </tr>\n",
       "    <tr>\n",
       "      <th>20</th>\n",
       "      <td>Unable to install new software due to security policy restrictions.</td>\n",
       "      <td>unable install new software due security policy restriction</td>\n",
       "    </tr>\n",
       "    <tr>\n",
       "      <th>33</th>\n",
       "      <td>Fiber connection to Rack 3B has severe packet loss.</td>\n",
       "      <td>fiber connection rack b severe packet loss</td>\n",
       "    </tr>\n",
       "    <tr>\n",
       "      <th>37</th>\n",
       "      <td>Unable to access the KVM console for Rack 5A.</td>\n",
       "      <td>unable access kvm console rack</td>\n",
       "    </tr>\n",
       "  </tbody>\n",
       "</table>\n",
       "</div>"
      ],
      "text/plain": [
       "                                                                   description  \\\n",
       "ticket_id                                                                        \n",
       "1                                          Unable to connect to VPN from home.   \n",
       "20         Unable to install new software due to security policy restrictions.   \n",
       "33                         Fiber connection to Rack 3B has severe packet loss.   \n",
       "37                               Unable to access the KVM console for Rack 5A.   \n",
       "\n",
       "                                                        processed_text  \n",
       "ticket_id                                                               \n",
       "1                                              unable connect vpn home  \n",
       "20         unable install new software due security policy restriction  \n",
       "33                          fiber connection rack b severe packet loss  \n",
       "37                                      unable access kvm console rack  "
      ]
     },
     "metadata": {},
     "output_type": "display_data"
    },
    {
     "name": "stdout",
     "output_type": "stream",
     "text": [
      "\n",
      "--- Cluster 3 ---\n"
     ]
    },
    {
     "data": {
      "text/html": [
       "<div>\n",
       "<style scoped>\n",
       "    .dataframe tbody tr th:only-of-type {\n",
       "        vertical-align: middle;\n",
       "    }\n",
       "\n",
       "    .dataframe tbody tr th {\n",
       "        vertical-align: top;\n",
       "    }\n",
       "\n",
       "    .dataframe thead th {\n",
       "        text-align: right;\n",
       "    }\n",
       "</style>\n",
       "<table border=\"1\" class=\"dataframe\">\n",
       "  <thead>\n",
       "    <tr style=\"text-align: right;\">\n",
       "      <th></th>\n",
       "      <th>description</th>\n",
       "      <th>processed_text</th>\n",
       "    </tr>\n",
       "    <tr>\n",
       "      <th>ticket_id</th>\n",
       "      <th></th>\n",
       "      <th></th>\n",
       "    </tr>\n",
       "  </thead>\n",
       "  <tbody>\n",
       "    <tr>\n",
       "      <th>3</th>\n",
       "      <td>My laptop battery only lasts 20 minutes after a full charge.</td>\n",
       "      <td>laptop battery last minute full charge</td>\n",
       "    </tr>\n",
       "    <tr>\n",
       "      <th>9</th>\n",
       "      <td>Can't print from my laptop to the office printer.</td>\n",
       "      <td>print laptop office printer</td>\n",
       "    </tr>\n",
       "    <tr>\n",
       "      <th>35</th>\n",
       "      <td>The UPS in Zone 2 failed its self-test and may need battery replacement.</td>\n",
       "      <td>ups zone fail selftest may need battery replacement</td>\n",
       "    </tr>\n",
       "    <tr>\n",
       "      <th>52</th>\n",
       "      <td>Raised floor tile near battery room is cracked and unstable.</td>\n",
       "      <td>raise floor tile near battery room crack unstable</td>\n",
       "    </tr>\n",
       "  </tbody>\n",
       "</table>\n",
       "</div>"
      ],
      "text/plain": [
       "                                                                        description  \\\n",
       "ticket_id                                                                             \n",
       "3                      My laptop battery only lasts 20 minutes after a full charge.   \n",
       "9                                 Can't print from my laptop to the office printer.   \n",
       "35         The UPS in Zone 2 failed its self-test and may need battery replacement.   \n",
       "52                     Raised floor tile near battery room is cracked and unstable.   \n",
       "\n",
       "                                                processed_text  \n",
       "ticket_id                                                       \n",
       "3                       laptop battery last minute full charge  \n",
       "9                                  print laptop office printer  \n",
       "35         ups zone fail selftest may need battery replacement  \n",
       "52           raise floor tile near battery room crack unstable  "
      ]
     },
     "metadata": {},
     "output_type": "display_data"
    },
    {
     "name": "stdout",
     "output_type": "stream",
     "text": [
      "\n",
      "--- Cluster 4 ---\n"
     ]
    },
    {
     "data": {
      "text/html": [
       "<div>\n",
       "<style scoped>\n",
       "    .dataframe tbody tr th:only-of-type {\n",
       "        vertical-align: middle;\n",
       "    }\n",
       "\n",
       "    .dataframe tbody tr th {\n",
       "        vertical-align: top;\n",
       "    }\n",
       "\n",
       "    .dataframe thead th {\n",
       "        text-align: right;\n",
       "    }\n",
       "</style>\n",
       "<table border=\"1\" class=\"dataframe\">\n",
       "  <thead>\n",
       "    <tr style=\"text-align: right;\">\n",
       "      <th></th>\n",
       "      <th>description</th>\n",
       "      <th>processed_text</th>\n",
       "    </tr>\n",
       "    <tr>\n",
       "      <th>ticket_id</th>\n",
       "      <th></th>\n",
       "      <th></th>\n",
       "    </tr>\n",
       "  </thead>\n",
       "  <tbody>\n",
       "    <tr>\n",
       "      <th>7</th>\n",
       "      <td>Keyboard keys are sticking and occasionally not registering.</td>\n",
       "      <td>keyboard key stick occasionally register</td>\n",
       "    </tr>\n",
       "    <tr>\n",
       "      <th>10</th>\n",
       "      <td>System is extremely slow when running multiple browser tabs.</td>\n",
       "      <td>system extremely slow run multiple browser tab</td>\n",
       "    </tr>\n",
       "    <tr>\n",
       "      <th>14</th>\n",
       "      <td>The webcam flickers on and off during Zoom meetings.</td>\n",
       "      <td>webcam flicker zoom meeting</td>\n",
       "    </tr>\n",
       "    <tr>\n",
       "      <th>34</th>\n",
       "      <td>Received multiple drive failure warnings on storage array 7.</td>\n",
       "      <td>receive multiple drive failure warning storage array</td>\n",
       "    </tr>\n",
       "    <tr>\n",
       "      <th>43</th>\n",
       "      <td>One of the environmental sensors in Pod 2 is reporting false humidity readings.</td>\n",
       "      <td>one environmental sensor pod report false humidity reading</td>\n",
       "    </tr>\n",
       "  </tbody>\n",
       "</table>\n",
       "</div>"
      ],
      "text/plain": [
       "                                                                               description  \\\n",
       "ticket_id                                                                                    \n",
       "7                             Keyboard keys are sticking and occasionally not registering.   \n",
       "10                            System is extremely slow when running multiple browser tabs.   \n",
       "14                                    The webcam flickers on and off during Zoom meetings.   \n",
       "34                            Received multiple drive failure warnings on storage array 7.   \n",
       "43         One of the environmental sensors in Pod 2 is reporting false humidity readings.   \n",
       "\n",
       "                                                       processed_text  \n",
       "ticket_id                                                              \n",
       "7                            keyboard key stick occasionally register  \n",
       "10                     system extremely slow run multiple browser tab  \n",
       "14                                        webcam flicker zoom meeting  \n",
       "34               receive multiple drive failure warning storage array  \n",
       "43         one environmental sensor pod report false humidity reading  "
      ]
     },
     "metadata": {},
     "output_type": "display_data"
    }
   ],
   "source": [
    "# Load original preprocessed text\n",
    "df = pd.read_csv(\"../data/tickets_preprocessed.csv\", index_col=\"ticket_id\")\n",
    "\n",
    "# Merge HDBSCAN cluster labels\n",
    "df[\"hdbscan_cluster\"] = X_reduced[\"hdbscan_cluster\"]\n",
    "\n",
    "# Group by cluster and show a few examples from each\n",
    "for cluster_id in sorted(df[\"hdbscan_cluster\"].unique()):\n",
    "    print(f\"\\n--- Cluster {cluster_id} ---\")\n",
    "    display(df[df[\"hdbscan_cluster\"] == cluster_id][[\"description\", \"processed_text\"]].head(5))\n"
   ]
  },
  {
   "cell_type": "markdown",
   "metadata": {},
   "source": [
    "## UMAP Visualization"
   ]
  },
  {
   "cell_type": "code",
   "execution_count": 40,
   "metadata": {},
   "outputs": [
    {
     "name": "stderr",
     "output_type": "stream",
     "text": [
      "c:\\Users\\Scott\\AppData\\Local\\Programs\\Python\\Python312\\Lib\\site-packages\\umap\\umap_.py:1952: UserWarning: n_jobs value 1 overridden to 1 by setting random_state. Use no seed for parallelism.\n",
      "  warn(\n"
     ]
    },
    {
     "data": {
      "image/png": "[encoded data removed]",
      "text/plain": [
       "<Figure size 1000x600 with 1 Axes>"
      ]
     },
     "metadata": {},
     "output_type": "display_data"
    }
   ],
   "source": [
    "import umap.umap_ as umap\n",
    "import matplotlib.pyplot as plt\n",
    "\n",
    "# Reduce to 2D for visualization\n",
    "umap_model = umap.UMAP(random_state=42)\n",
    "X_umap = umap_model.fit_transform(X_reduced.drop(columns=[\"kmeans_cluster\", \"hdbscan_cluster\"]))\n",
    "\n",
    "# Add coordinates back to the DataFrame\n",
    "X_reduced[\"umap_x\"] = X_umap[:, 0]\n",
    "X_reduced[\"umap_y\"] = X_umap[:, 1]\n",
    "\n",
    "# Save UMAP coordinates and cluster labels to new CSV\n",
    "X_reduced[[\"umap_x\", \"umap_y\", \"hdbscan_cluster\"]].to_csv(\"../data/umap_projection.csv\")\n",
    "\n",
    "# Plot\n",
    "plt.figure(figsize=(10, 6))\n",
    "sns.scatterplot(\n",
    "    data=X_reduced,\n",
    "    x=\"umap_x\", y=\"umap_y\",\n",
    "    hue=\"hdbscan_cluster\",\n",
    "    palette=\"tab10\",\n",
    "    legend=\"full\",\n",
    "    alpha=0.8\n",
    ")\n",
    "plt.title(\"UMAP Projection of HDBSCAN Clusters\")\n",
    "plt.xlabel(\"UMAP 1\")\n",
    "plt.ylabel(\"UMAP 2\")\n",
    "plt.legend(title=\"Cluster\", bbox_to_anchor=(1.05, 1), loc='upper left')\n",
    "plt.tight_layout()\n",
    "plt.show()\n"
   ]
  },
  {
   "cell_type": "markdown",
   "metadata": {},
   "source": [
    "## Summarize Each Cluster"
   ]
  },
  {
   "cell_type": "code",
   "execution_count": 34,
   "metadata": {},
   "outputs": [
    {
     "name": "stdout",
     "output_type": "stream",
     "text": [
      "\n",
      "--- Cluster 0: Top Keywords ---\n",
      "team, work, entry, multiple, mouse, monitor, lose, log, laptop, install\n",
      "\n",
      "--- Cluster 1: Top Keywords ---\n",
      "server, power, report, dashboard, rack, zone, error, monitor, lose, log\n",
      "\n",
      "--- Cluster 2: Top Keywords ---\n",
      "unable, rack, install, new, access, entry, mouse, monitor, lose, log\n",
      "\n",
      "--- Cluster 3: Top Keywords ---\n",
      "battery, laptop, zone, fail, entry, multiple, mouse, monitor, lose, log\n",
      "\n",
      "--- Cluster 4: Top Keywords ---\n",
      "multiple, run, receive, humidity, reading, pod, sensor, report, airflow, lose\n"
     ]
    }
   ],
   "source": [
    "from sklearn.feature_extraction.text import TfidfVectorizer\n",
    "\n",
    "# Reload preprocessed text and cluster labels\n",
    "df = pd.read_csv(\"../data/tickets_preprocessed.csv\", index_col=\"ticket_id\")\n",
    "df[\"hdbscan_cluster\"] = X_reduced[\"hdbscan_cluster\"]\n",
    "\n",
    "# Use the same TF-IDF vectorizer (you can load from joblib if needed)\n",
    "vectorizer = TfidfVectorizer(stop_words=\"english\", max_df=0.95, min_df=2)\n",
    "tfidf_matrix = vectorizer.fit_transform(df[\"processed_text\"])\n",
    "terms = vectorizer.get_feature_names_out()\n",
    "\n",
    "# Summarize each cluster\n",
    "for cluster_id in sorted(df[\"hdbscan_cluster\"].unique()):\n",
    "    if cluster_id == -1:\n",
    "        continue  # Skip noise\n",
    "    indices = df[df[\"hdbscan_cluster\"] == cluster_id].index\n",
    "    cluster_tfidf = tfidf_matrix[[i - 1 for i in indices]]  # adjust for ticket_id index\n",
    "    mean_tfidf = np.asarray(cluster_tfidf.mean(axis=0)).flatten()\n",
    "    top_indices = mean_tfidf.argsort()[::-1][:10]\n",
    "    keywords = [terms[i] for i in top_indices]\n",
    "    \n",
    "    print(f\"\\n--- Cluster {cluster_id}: Top Keywords ---\")\n",
    "    print(\", \".join(keywords))"
   ]
  },
  {
   "cell_type": "markdown",
   "metadata": {},
   "source": [
    "# Export HDBSCAN Clusters and Summary Keywords"
   ]
  },
  {
   "cell_type": "code",
   "execution_count": 39,
   "metadata": {},
   "outputs": [
    {
     "name": "stdout",
     "output_type": "stream",
     "text": [
      "Saved ticket_clusters_hdbscan.csv\n"
     ]
    }
   ],
   "source": [
    "# Merge with original descriptions\n",
    "df_full = df[[\"description\", \"processed_text\", \"hdbscan_cluster\"]]\n",
    "df_full.to_csv(\"../data/ticket_clusters_hdbscan.csv\")\n",
    "\n",
    "print(\"Saved ticket_clusters_hdbscan.csv\")"
   ]
  },
  {
   "cell_type": "code",
   "execution_count": 36,
   "metadata": {},
   "outputs": [
    {
     "name": "stdout",
     "output_type": "stream",
     "text": [
      "Saved cluster_keywords_hdbscan.csv\n"
     ]
    }
   ],
   "source": [
    "# Cell 10B: Save top keywords per cluster\n",
    "\n",
    "cluster_keywords = []\n",
    "\n",
    "for cluster_id in sorted(df[\"hdbscan_cluster\"].unique()):\n",
    "    if cluster_id == -1:\n",
    "        continue\n",
    "    indices = df[df[\"hdbscan_cluster\"] == cluster_id].index\n",
    "    cluster_tfidf = tfidf_matrix[[i - 1 for i in indices]]\n",
    "    mean_tfidf = np.asarray(cluster_tfidf.mean(axis=0)).flatten()\n",
    "    top_indices = mean_tfidf.argsort()[::-1][:10]\n",
    "    keywords = [terms[i] for i in top_indices]\n",
    "    cluster_keywords.append({\n",
    "        \"cluster\": cluster_id,\n",
    "        \"keywords\": \", \".join(keywords)\n",
    "    })\n",
    "\n",
    "# Save to CSV\n",
    "keywords_df = pd.DataFrame(cluster_keywords)\n",
    "keywords_df.to_csv(\"../data/cluster_keywords_hdbscan.csv\", index=False)\n",
    "\n",
    "print(\"Saved cluster_keywords_hdbscan.csv\")\n"
   ]
  },
  {
   "cell_type": "code",
   "execution_count": null,
   "metadata": {},
   "outputs": [],
   "source": []
  }
 ],
 "metadata": {
  "kernelspec": {
   "display_name": "Python 3",
   "language": "python",
   "name": "python3"
  },
  "language_info": {
   "codemirror_mode": {
    "name": "ipython",
    "version": 3
   },
   "file_extension": ".py",
   "mimetype": "text/x-python",
   "name": "python",
   "nbconvert_exporter": "python",
   "pygments_lexer": "ipython3",
   "version": "3.12.2"
  }
 },
 "nbformat": 4,
 "nbformat_minor": 2
}
